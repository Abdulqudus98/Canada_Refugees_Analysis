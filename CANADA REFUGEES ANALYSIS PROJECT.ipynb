{
 "cells": [
  {
   "cell_type": "code",
   "execution_count": 87,
   "id": "965d41d4",
   "metadata": {},
   "outputs": [],
   "source": [
    "import pandas as pd\n",
    "import numpy as np\n",
    "import seaborn as sns\n",
    "import matplotlib.pyplot as plt"
   ]
  },
  {
   "cell_type": "code",
   "execution_count": 193,
   "id": "992f19cc",
   "metadata": {},
   "outputs": [
    {
     "data": {
      "text/html": [
       "<div>\n",
       "<style scoped>\n",
       "    .dataframe tbody tr th:only-of-type {\n",
       "        vertical-align: middle;\n",
       "    }\n",
       "\n",
       "    .dataframe tbody tr th {\n",
       "        vertical-align: top;\n",
       "    }\n",
       "\n",
       "    .dataframe thead th {\n",
       "        text-align: right;\n",
       "    }\n",
       "</style>\n",
       "<table border=\"1\" class=\"dataframe\">\n",
       "  <thead>\n",
       "    <tr style=\"text-align: right;\">\n",
       "      <th></th>\n",
       "      <th>Year</th>\n",
       "      <th>Country-of-origin</th>\n",
       "      <th>UNHR-refugees</th>\n",
       "      <th>Asylum-seekers</th>\n",
       "      <th>total-count</th>\n",
       "    </tr>\n",
       "  </thead>\n",
       "  <tbody>\n",
       "    <tr>\n",
       "      <th>0</th>\n",
       "      <td>2020</td>\n",
       "      <td>Stateless</td>\n",
       "      <td>179</td>\n",
       "      <td>170</td>\n",
       "      <td>349</td>\n",
       "    </tr>\n",
       "    <tr>\n",
       "      <th>1</th>\n",
       "      <td>2020</td>\n",
       "      <td>Saint Kitts and Nevis</td>\n",
       "      <td>44</td>\n",
       "      <td>0</td>\n",
       "      <td>44</td>\n",
       "    </tr>\n",
       "    <tr>\n",
       "      <th>2</th>\n",
       "      <td>2020</td>\n",
       "      <td>Sudan</td>\n",
       "      <td>1776</td>\n",
       "      <td>549</td>\n",
       "      <td>2325</td>\n",
       "    </tr>\n",
       "    <tr>\n",
       "      <th>3</th>\n",
       "      <td>2020</td>\n",
       "      <td>Slovakia</td>\n",
       "      <td>1180</td>\n",
       "      <td>138</td>\n",
       "      <td>1318</td>\n",
       "    </tr>\n",
       "    <tr>\n",
       "      <th>4</th>\n",
       "      <td>2020</td>\n",
       "      <td>Slovenia</td>\n",
       "      <td>6</td>\n",
       "      <td>0</td>\n",
       "      <td>6</td>\n",
       "    </tr>\n",
       "  </tbody>\n",
       "</table>\n",
       "</div>"
      ],
      "text/plain": [
       "   Year      Country-of-origin  UNHR-refugees  Asylum-seekers  total-count\n",
       "0  2020              Stateless            179             170          349\n",
       "1  2020  Saint Kitts and Nevis             44               0           44\n",
       "2  2020                  Sudan           1776             549         2325\n",
       "3  2020               Slovakia           1180             138         1318\n",
       "4  2020               Slovenia              6               0            6"
      ]
     },
     "execution_count": 193,
     "metadata": {},
     "output_type": "execute_result"
    }
   ],
   "source": [
    "data = \"C:\\\\Users\\\\HP\\\\Desktop\\\\Canada Refugee data.xlsx\"\n",
    "table = pd.read_excel(data)\n",
    "table.head()"
   ]
  },
  {
   "cell_type": "code",
   "execution_count": 278,
   "id": "ec72d95d",
   "metadata": {},
   "outputs": [],
   "source": [
    "table[\"Country-of-origin\"] =table[\"Country-of-origin\"].replace(\"Unknown\",\"not specific\")"
   ]
  },
  {
   "cell_type": "code",
   "execution_count": 279,
   "id": "eb7ede70",
   "metadata": {},
   "outputs": [
    {
     "name": "stdout",
     "output_type": "stream",
     "text": [
      "Stateless\n",
      "Saint Kitts and Nevis\n",
      "Sudan\n",
      "Slovakia\n",
      "Slovenia\n",
      "Eswatini\n",
      "Syrian Arab Rep.\n",
      "United Rep. of Tanzania\n",
      "Tajikistan\n",
      "Turkmenistan\n",
      "Timor-Leste\n",
      "Togo\n",
      "Trinidad and Tobago\n",
      "Tunisia\n",
      "Türkiye\n",
      "United Arab Emirates\n",
      "Uganda\n",
      "not specific\n",
      "Ukraine\n",
      "United States of America\n",
      "Uzbekistan\n",
      "Saint Vincent and the Grenadines\n",
      "Venezuela (Bolivarian Republic of)\n",
      "Yemen\n",
      "Zambia\n",
      "Zimbabwe\n",
      "Afghanistan\n",
      "Albania\n",
      "Algeria\n",
      "Angola\n",
      "Antigua and Barbuda\n",
      "Egypt\n",
      "Argentina\n",
      "Armenia\n",
      "Australia\n",
      "Austria\n",
      "Azerbaijan\n",
      "Bahrain\n",
      "Barbados\n",
      "Burundi\n",
      "Belgium\n",
      "Benin\n",
      "Bangladesh\n",
      "Bahamas\n",
      "Burkina Faso\n",
      "Belarus\n",
      "Bolivia (Plurinational State of)\n",
      "Botswana\n",
      "Brazil\n",
      "Bosnia and Herzegovina\n",
      "Bulgaria\n",
      "Belize\n",
      "Cambodia\n",
      "Central African Rep.\n",
      "Chad\n",
      "China\n",
      "Chile\n",
      "Cameroon\n",
      "Congo\n",
      "Dem. Rep. of the Congo\n",
      "Comoros\n",
      "Colombia\n",
      "Costa Rica\n",
      "Cuba\n",
      "Cabo Verde\n",
      "Cyprus\n",
      "Czechia\n",
      "Denmark\n",
      "Djibouti\n",
      "Dominica\n",
      "Dominican Rep.\n",
      "Ecuador\n",
      "Equatorial Guinea\n",
      "Eritrea\n",
      "Estonia\n",
      "Ethiopia\n",
      "Fiji\n",
      "Finland\n",
      "France\n",
      "Gabon\n",
      "Gambia\n",
      "Palestinian\n",
      "United Kingdom of Great Britain and Northern Ireland\n",
      "Georgia\n",
      "Germany\n",
      "Ghana\n",
      "Guinea-Bissau\n",
      "Greece\n",
      "Grenada\n",
      "Guatemala\n",
      "Guinea\n",
      "Guyana\n",
      "Haiti\n",
      "China, Hong Kong SAR\n",
      "Honduras\n",
      "Croatia\n",
      "Hungary\n",
      "Iceland\n",
      "Cote d'Ivoire\n",
      "India\n",
      "Indonesia\n",
      "Ireland\n",
      "Iran (Islamic Rep. of)\n",
      "Iraq\n",
      "Israel\n",
      "Italy\n",
      "Jamaica\n",
      "Jordan\n",
      "Japan\n",
      "Kazakhstan\n",
      "Kenya\n",
      "Kyrgyzstan\n",
      "Rep. of Korea\n",
      "Dem. People's Rep. of Korea\n",
      "Kuwait\n",
      "Lao People's Dem. Rep.\n",
      "Liberia\n",
      "Libya\n",
      "Saint Lucia\n",
      "Lebanon\n",
      "Lesotho\n",
      "Sri Lanka\n",
      "Lithuania\n",
      "Latvia\n",
      "Madagascar\n",
      "Mauritania\n",
      "North Macedonia\n",
      "Rep. of Moldova\n",
      "Mexico\n",
      "Mali\n",
      "Malaysia\n",
      "Malawi\n",
      "Mongolia\n",
      "Morocco\n",
      "Malta\n",
      "Mauritius\n",
      "Myanmar\n",
      "Namibia\n",
      "Nepal\n",
      "Netherlands (Kingdom of the)\n",
      "Niger\n",
      "Nicaragua\n",
      "Nigeria\n",
      "Norway\n",
      "Pakistan\n",
      "Panama\n",
      "Paraguay\n",
      "Peru\n",
      "Philippines\n",
      "Papua New Guinea\n",
      "Poland\n",
      "Portugal\n",
      "Qatar\n",
      "Romania\n",
      "South Africa\n",
      "Russian Federation\n",
      "Rwanda\n",
      "El Salvador\n",
      "Saudi Arabia\n",
      "Senegal\n",
      "Seychelles\n",
      "Singapore\n",
      "Sierra Leone\n",
      "Somalia\n",
      "Spain\n",
      "Serbia and Kosovo: S/RES/1244 (1999)\n",
      "Viet Nam\n",
      "South Sudan\n",
      "Stateless\n",
      "Saint Kitts and Nevis\n",
      "Sudan\n",
      "Suriname\n",
      "Slovakia\n",
      "Slovenia\n",
      "Eswatini\n",
      "Syrian Arab Rep.\n",
      "United Rep. of Tanzania\n",
      "Thailand\n",
      "Tajikistan\n",
      "Turkmenistan\n",
      "Timor-Leste\n",
      "Togo\n",
      "Trinidad and Tobago\n",
      "Tunisia\n",
      "Türkiye\n",
      "United Arab Emirates\n",
      "Uganda\n",
      "not specific\n",
      "Ukraine\n",
      "Uruguay\n",
      "United States of America\n",
      "Uzbekistan\n",
      "Saint Vincent and the Grenadines\n",
      "Venezuela (Bolivarian Republic of)\n",
      "Yemen\n",
      "Zambia\n",
      "Zimbabwe\n",
      "Afghanistan\n",
      "Albania\n",
      "Algeria\n",
      "Angola\n",
      "Antigua and Barbuda\n",
      "Egypt\n",
      "Argentina\n",
      "Armenia\n",
      "Australia\n",
      "Austria\n",
      "Azerbaijan\n",
      "Bahrain\n",
      "Barbados\n",
      "Burundi\n",
      "Belgium\n",
      "Benin\n",
      "Bangladesh\n",
      "Bahamas\n",
      "Bhutan\n",
      "Burkina Faso\n",
      "Belarus\n",
      "Bolivia (Plurinational State of)\n",
      "Botswana\n",
      "Brazil\n",
      "Bosnia and Herzegovina\n",
      "Bulgaria\n",
      "Belize\n",
      "Cambodia\n",
      "Central African Rep.\n",
      "Chad\n",
      "China\n",
      "Chile\n",
      "Cameroon\n",
      "Congo\n",
      "Dem. Rep. of the Congo\n",
      "Comoros\n",
      "Colombia\n",
      "Costa Rica\n",
      "Cuba\n",
      "Cabo Verde\n",
      "Cyprus\n",
      "Czechia\n",
      "Denmark\n",
      "Djibouti\n",
      "Dominica\n",
      "Dominican Rep.\n",
      "Ecuador\n",
      "Equatorial Guinea\n",
      "Eritrea\n",
      "Ethiopia\n",
      "Fiji\n",
      "France\n",
      "Gabon\n",
      "Gambia\n",
      "Palestinian\n",
      "United Kingdom of Great Britain and Northern Ireland\n",
      "Georgia\n",
      "Germany\n",
      "Ghana\n",
      "Guinea-Bissau\n",
      "Greece\n",
      "Grenada\n",
      "Guatemala\n",
      "Guinea\n",
      "Guyana\n",
      "Haiti\n",
      "China, Hong Kong SAR\n",
      "Honduras\n",
      "Croatia\n",
      "Hungary\n",
      "Iceland\n",
      "Cote d'Ivoire\n",
      "India\n",
      "Indonesia\n",
      "Ireland\n",
      "Iran (Islamic Rep. of)\n",
      "Iraq\n",
      "Israel\n",
      "Italy\n",
      "Jamaica\n",
      "Jordan\n",
      "Japan\n",
      "Kazakhstan\n",
      "Kenya\n",
      "Kyrgyzstan\n",
      "Rep. of Korea\n",
      "Dem. People's Rep. of Korea\n",
      "Kuwait\n",
      "Liberia\n",
      "Libya\n",
      "Saint Lucia\n",
      "Lebanon\n",
      "Sri Lanka\n",
      "Lithuania\n",
      "Latvia\n",
      "Madagascar\n",
      "Mauritania\n",
      "North Macedonia\n",
      "Rep. of Moldova\n",
      "Mexico\n",
      "Mali\n",
      "Malaysia\n",
      "Malawi\n",
      "Montenegro\n",
      "Mongolia\n",
      "Morocco\n",
      "Mozambique\n",
      "Malta\n",
      "Mauritius\n",
      "Myanmar\n",
      "Namibia\n",
      "Nepal\n",
      "Netherlands (Kingdom of the)\n",
      "Niger\n",
      "Nicaragua\n",
      "Nigeria\n",
      "Norway\n",
      "Oman\n",
      "Pakistan\n",
      "Panama\n",
      "Paraguay\n",
      "Peru\n",
      "Philippines\n",
      "Papua New Guinea\n",
      "Poland\n",
      "Portugal\n",
      "Qatar\n",
      "Romania\n",
      "South Africa\n",
      "Russian Federation\n",
      "Rwanda\n",
      "El Salvador\n",
      "Saudi Arabia\n",
      "Senegal\n",
      "Singapore\n",
      "Sierra Leone\n",
      "Somalia\n",
      "Spain\n",
      "Serbia and Kosovo: S/RES/1244 (1999)\n",
      "Viet Nam\n",
      "South Sudan\n",
      "Stateless\n",
      "Saint Kitts and Nevis\n",
      "Sudan\n",
      "Suriname\n",
      "Slovakia\n",
      "Slovenia\n",
      "Eswatini\n",
      "Sweden\n",
      "Syrian Arab Rep.\n",
      "United Rep. of Tanzania\n",
      "Thailand\n",
      "Tajikistan\n",
      "Turkmenistan\n",
      "Togo\n",
      "Trinidad and Tobago\n",
      "Tunisia\n",
      "Türkiye\n",
      "United Arab Emirates\n",
      "Uganda\n",
      "not specific\n",
      "Ukraine\n",
      "Uruguay\n",
      "United States of America\n",
      "Uzbekistan\n",
      "Saint Vincent and the Grenadines\n",
      "Venezuela (Bolivarian Republic of)\n",
      "Western Sahara\n",
      "Yemen\n",
      "Zambia\n",
      "Zimbabwe\n"
     ]
    }
   ],
   "source": [
    "for y in table[\"Country-of-origin\"]:\n",
    "    print(y)"
   ]
  },
  {
   "cell_type": "code",
   "execution_count": 280,
   "id": "522b7f18",
   "metadata": {},
   "outputs": [
    {
     "data": {
      "text/html": [
       "<div>\n",
       "<style scoped>\n",
       "    .dataframe tbody tr th:only-of-type {\n",
       "        vertical-align: middle;\n",
       "    }\n",
       "\n",
       "    .dataframe tbody tr th {\n",
       "        vertical-align: top;\n",
       "    }\n",
       "\n",
       "    .dataframe thead th {\n",
       "        text-align: right;\n",
       "    }\n",
       "</style>\n",
       "<table border=\"1\" class=\"dataframe\">\n",
       "  <thead>\n",
       "    <tr style=\"text-align: right;\">\n",
       "      <th></th>\n",
       "      <th>Year</th>\n",
       "      <th>UNHR-refugees</th>\n",
       "      <th>Asylum-seekers</th>\n",
       "      <th>total-count</th>\n",
       "    </tr>\n",
       "  </thead>\n",
       "  <tbody>\n",
       "    <tr>\n",
       "      <th>count</th>\n",
       "      <td>368.000000</td>\n",
       "      <td>368.000000</td>\n",
       "      <td>368.000000</td>\n",
       "      <td>368.000000</td>\n",
       "    </tr>\n",
       "    <tr>\n",
       "      <th>mean</th>\n",
       "      <td>2021.394022</td>\n",
       "      <td>799.470109</td>\n",
       "      <td>528.831522</td>\n",
       "      <td>1328.301630</td>\n",
       "    </tr>\n",
       "    <tr>\n",
       "      <th>std</th>\n",
       "      <td>0.617340</td>\n",
       "      <td>4122.189901</td>\n",
       "      <td>1801.159352</td>\n",
       "      <td>4785.237928</td>\n",
       "    </tr>\n",
       "    <tr>\n",
       "      <th>min</th>\n",
       "      <td>2020.000000</td>\n",
       "      <td>0.000000</td>\n",
       "      <td>0.000000</td>\n",
       "      <td>5.000000</td>\n",
       "    </tr>\n",
       "    <tr>\n",
       "      <th>25%</th>\n",
       "      <td>2021.000000</td>\n",
       "      <td>10.000000</td>\n",
       "      <td>12.000000</td>\n",
       "      <td>31.000000</td>\n",
       "    </tr>\n",
       "    <tr>\n",
       "      <th>50%</th>\n",
       "      <td>2021.000000</td>\n",
       "      <td>72.500000</td>\n",
       "      <td>65.500000</td>\n",
       "      <td>165.000000</td>\n",
       "    </tr>\n",
       "    <tr>\n",
       "      <th>75%</th>\n",
       "      <td>2022.000000</td>\n",
       "      <td>482.250000</td>\n",
       "      <td>300.500000</td>\n",
       "      <td>909.500000</td>\n",
       "    </tr>\n",
       "    <tr>\n",
       "      <th>max</th>\n",
       "      <td>2022.000000</td>\n",
       "      <td>75098.000000</td>\n",
       "      <td>19765.000000</td>\n",
       "      <td>75294.000000</td>\n",
       "    </tr>\n",
       "  </tbody>\n",
       "</table>\n",
       "</div>"
      ],
      "text/plain": [
       "              Year  UNHR-refugees  Asylum-seekers   total-count\n",
       "count   368.000000     368.000000      368.000000    368.000000\n",
       "mean   2021.394022     799.470109      528.831522   1328.301630\n",
       "std       0.617340    4122.189901     1801.159352   4785.237928\n",
       "min    2020.000000       0.000000        0.000000      5.000000\n",
       "25%    2021.000000      10.000000       12.000000     31.000000\n",
       "50%    2021.000000      72.500000       65.500000    165.000000\n",
       "75%    2022.000000     482.250000      300.500000    909.500000\n",
       "max    2022.000000   75098.000000    19765.000000  75294.000000"
      ]
     },
     "execution_count": 280,
     "metadata": {},
     "output_type": "execute_result"
    }
   ],
   "source": [
    "table.describe() "
   ]
  },
  {
   "cell_type": "code",
   "execution_count": 199,
   "id": "ebd1e203",
   "metadata": {},
   "outputs": [
    {
     "data": {
      "text/plain": [
       "Year   Country-of-origin  UNHR-refugees  Asylum-seekers  total-count\n",
       "False  False              False          False           False          368\n",
       "Name: count, dtype: int64"
      ]
     },
     "execution_count": 199,
     "metadata": {},
     "output_type": "execute_result"
    }
   ],
   "source": [
    "table.isnull().value_counts()"
   ]
  },
  {
   "cell_type": "code",
   "execution_count": 281,
   "id": "1521080e",
   "metadata": {},
   "outputs": [
    {
     "data": {
      "text/plain": [
       "Year                  int64\n",
       "Country-of-origin    object\n",
       "UNHR-refugees         int64\n",
       "Asylum-seekers        int64\n",
       "total-count           int64\n",
       "dtype: object"
      ]
     },
     "execution_count": 281,
     "metadata": {},
     "output_type": "execute_result"
    }
   ],
   "source": [
    "table.dtypes"
   ]
  },
  {
   "cell_type": "code",
   "execution_count": 282,
   "id": "59d171c9",
   "metadata": {
    "scrolled": false
   },
   "outputs": [
    {
     "data": {
      "text/html": [
       "<div>\n",
       "<style scoped>\n",
       "    .dataframe tbody tr th:only-of-type {\n",
       "        vertical-align: middle;\n",
       "    }\n",
       "\n",
       "    .dataframe tbody tr th {\n",
       "        vertical-align: top;\n",
       "    }\n",
       "\n",
       "    .dataframe thead th {\n",
       "        text-align: right;\n",
       "    }\n",
       "</style>\n",
       "<table border=\"1\" class=\"dataframe\">\n",
       "  <thead>\n",
       "    <tr style=\"text-align: right;\">\n",
       "      <th></th>\n",
       "      <th>Country-of-origin</th>\n",
       "      <th>UNHR-refugees</th>\n",
       "    </tr>\n",
       "  </thead>\n",
       "  <tbody>\n",
       "    <tr>\n",
       "      <th>163</th>\n",
       "      <td>Ukraine</td>\n",
       "      <td>75098</td>\n",
       "    </tr>\n",
       "    <tr>\n",
       "      <th>114</th>\n",
       "      <td>Nigeria</td>\n",
       "      <td>10172</td>\n",
       "    </tr>\n",
       "    <tr>\n",
       "      <th>176</th>\n",
       "      <td>not specific</td>\n",
       "      <td>10016</td>\n",
       "    </tr>\n",
       "    <tr>\n",
       "      <th>118</th>\n",
       "      <td>Pakistan</td>\n",
       "      <td>7171</td>\n",
       "    </tr>\n",
       "    <tr>\n",
       "      <th>77</th>\n",
       "      <td>Iran (Islamic Rep. of)</td>\n",
       "      <td>7134</td>\n",
       "    </tr>\n",
       "    <tr>\n",
       "      <th>161</th>\n",
       "      <td>Türkiye</td>\n",
       "      <td>7085</td>\n",
       "    </tr>\n",
       "    <tr>\n",
       "      <th>32</th>\n",
       "      <td>China</td>\n",
       "      <td>5925</td>\n",
       "    </tr>\n",
       "    <tr>\n",
       "      <th>34</th>\n",
       "      <td>Colombia</td>\n",
       "      <td>5835</td>\n",
       "    </tr>\n",
       "    <tr>\n",
       "      <th>75</th>\n",
       "      <td>India</td>\n",
       "      <td>5180</td>\n",
       "    </tr>\n",
       "    <tr>\n",
       "      <th>71</th>\n",
       "      <td>Haiti</td>\n",
       "      <td>4295</td>\n",
       "    </tr>\n",
       "  </tbody>\n",
       "</table>\n",
       "</div>"
      ],
      "text/plain": [
       "          Country-of-origin  UNHR-refugees\n",
       "163                 Ukraine          75098\n",
       "114                 Nigeria          10172\n",
       "176            not specific          10016\n",
       "118                Pakistan           7171\n",
       "77   Iran (Islamic Rep. of)           7134\n",
       "161                 Türkiye           7085\n",
       "32                    China           5925\n",
       "34                 Colombia           5835\n",
       "75                    India           5180\n",
       "71                    Haiti           4295"
      ]
     },
     "execution_count": 282,
     "metadata": {},
     "output_type": "execute_result"
    }
   ],
   "source": [
    "# From which countries has Canada admitted the highest number of refugees\n",
    "\n",
    "highest_ad_C = table.groupby(\"Country-of-origin\")[\"UNHR-refugees\"].max()\n",
    "highest_ad_C=highest_ad_C.reset_index()\n",
    "highest_ad_C.sort_values(by=\"UNHR-refugees\", inplace=True, ascending=False)\n",
    "highest_ad_C.head(10)"
   ]
  },
  {
   "cell_type": "code",
   "execution_count": 305,
   "id": "113c8053",
   "metadata": {},
   "outputs": [],
   "source": [
    "#saving to memory\n",
    "highest_ad_C.to_csv(\"Countries with the most refugees in canada\")"
   ]
  },
  {
   "cell_type": "code",
   "execution_count": 283,
   "id": "9c731f3c",
   "metadata": {
    "scrolled": true
   },
   "outputs": [
    {
     "data": {
      "image/png": "[encoded data removed]",
      "text/plain": [
       "<Figure size 640x480 with 1 Axes>"
      ]
     },
     "metadata": {},
     "output_type": "display_data"
    },
    {
     "data": {
      "text/plain": [
       "<Figure size 800x600 with 0 Axes>"
      ]
     },
     "metadata": {},
     "output_type": "display_data"
    }
   ],
   "source": [
    "highest_ad_C.head(10).plot(kind=\"bar\",x=\"Country-of-origin\",y=\"UNHR-refugees\",color= [\"red\",\"blue\",\"yellow\",\"pink\",\"purple\",\"grey\",\"green\",\"orange\",\"tan\",\"gold\"] ,label = \"COUNTRIES WITH THE HIGHEST NUMBER OF REFUGEES\")\n",
    "plt.xlabel(\"Country-of-origin\")\n",
    "plt.ylabel(\"UNHR-refugees\")\n",
    "plt.figure(figsize=(8,6))\n",
    "plt.show()"
   ]
  },
  {
   "cell_type": "code",
   "execution_count": 258,
   "id": "100d28bb",
   "metadata": {},
   "outputs": [
    {
     "data": {
      "text/html": [
       "<div>\n",
       "<style scoped>\n",
       "    .dataframe tbody tr th:only-of-type {\n",
       "        vertical-align: middle;\n",
       "    }\n",
       "\n",
       "    .dataframe tbody tr th {\n",
       "        vertical-align: top;\n",
       "    }\n",
       "\n",
       "    .dataframe thead th {\n",
       "        text-align: right;\n",
       "    }\n",
       "</style>\n",
       "<table border=\"1\" class=\"dataframe\">\n",
       "  <thead>\n",
       "    <tr style=\"text-align: right;\">\n",
       "      <th></th>\n",
       "      <th>Year</th>\n",
       "      <th>UNHR-refugees</th>\n",
       "    </tr>\n",
       "  </thead>\n",
       "  <tbody>\n",
       "    <tr>\n",
       "      <th>2</th>\n",
       "      <td>2022</td>\n",
       "      <td>140621</td>\n",
       "    </tr>\n",
       "    <tr>\n",
       "      <th>1</th>\n",
       "      <td>2021</td>\n",
       "      <td>130125</td>\n",
       "    </tr>\n",
       "    <tr>\n",
       "      <th>0</th>\n",
       "      <td>2020</td>\n",
       "      <td>23459</td>\n",
       "    </tr>\n",
       "  </tbody>\n",
       "</table>\n",
       "</div>"
      ],
      "text/plain": [
       "   Year  UNHR-refugees\n",
       "2  2022         140621\n",
       "1  2021         130125\n",
       "0  2020          23459"
      ]
     },
     "execution_count": 258,
     "metadata": {},
     "output_type": "execute_result"
    }
   ],
   "source": [
    "#Total number ofrestteled refugees in canada per year\n",
    "no_of_R = table.groupby(\"Year\")[\"UNHR-refugees\"].sum()\n",
    "no_of_R = no_of_R.reset_index()\n",
    "no_of_R.sort_values(by = \"UNHR-refugees\", inplace= True, ascending=False)\n",
    "no_of_R.head()"
   ]
  },
  {
   "cell_type": "code",
   "execution_count": 304,
   "id": "ad1cb29f",
   "metadata": {},
   "outputs": [],
   "source": [
    "#saving this to memory\n",
    "no_of_R.to_csv(\"newRef\")"
   ]
  },
  {
   "cell_type": "code",
   "execution_count": 291,
   "id": "dfc57ca7",
   "metadata": {},
   "outputs": [
    {
     "data": {
      "text/plain": [
       "Text(0.5, 0, 'Year')"
      ]
     },
     "execution_count": 291,
     "metadata": {},
     "output_type": "execute_result"
    },
    {
     "data": {
      "image/png": "[encoded data removed]",
      "text/plain": [
       "<Figure size 640x480 with 1 Axes>"
      ]
     },
     "metadata": {},
     "output_type": "display_data"
    }
   ],
   "source": [
    "no_of_R.head().plot(kind=\"bar\",x=\"Year\",y=\"UNHR-refugees\",color= [\"blue\",\"yellow\",\"pink\",\"purple\",\"grey\",\"green\",\"orange\",\"tan\",\"gold\"] ,label = \"TOTAL NUMBER OF R_REFUGEES/YEAR\")\n",
    "plt.xlabel(\"Year\")"
   ]
  },
  {
   "cell_type": "code",
   "execution_count": null,
   "id": "8e24ff54",
   "metadata": {},
   "outputs": [],
   "source": []
  },
  {
   "cell_type": "code",
   "execution_count": null,
   "id": "d943d460",
   "metadata": {},
   "outputs": [],
   "source": []
  },
  {
   "cell_type": "code",
   "execution_count": null,
   "id": "14cc2c56",
   "metadata": {},
   "outputs": [],
   "source": []
  },
  {
   "cell_type": "code",
   "execution_count": null,
   "id": "ab5699ce",
   "metadata": {},
   "outputs": [],
   "source": []
  },
  {
   "cell_type": "code",
   "execution_count": 309,
   "id": "c695ae6f",
   "metadata": {},
   "outputs": [
    {
     "data": {
      "text/html": [
       "<div>\n",
       "<style scoped>\n",
       "    .dataframe tbody tr th:only-of-type {\n",
       "        vertical-align: middle;\n",
       "    }\n",
       "\n",
       "    .dataframe tbody tr th {\n",
       "        vertical-align: top;\n",
       "    }\n",
       "\n",
       "    .dataframe thead th {\n",
       "        text-align: right;\n",
       "    }\n",
       "</style>\n",
       "<table border=\"1\" class=\"dataframe\">\n",
       "  <thead>\n",
       "    <tr style=\"text-align: right;\">\n",
       "      <th></th>\n",
       "      <th>index</th>\n",
       "      <th>Year</th>\n",
       "      <th>Asylum-seekers</th>\n",
       "    </tr>\n",
       "  </thead>\n",
       "  <tbody>\n",
       "    <tr>\n",
       "      <th>0</th>\n",
       "      <td>2</td>\n",
       "      <td>2022</td>\n",
       "      <td>113066</td>\n",
       "    </tr>\n",
       "    <tr>\n",
       "      <th>1</th>\n",
       "      <td>1</td>\n",
       "      <td>2021</td>\n",
       "      <td>63143</td>\n",
       "    </tr>\n",
       "    <tr>\n",
       "      <th>2</th>\n",
       "      <td>0</td>\n",
       "      <td>2020</td>\n",
       "      <td>18401</td>\n",
       "    </tr>\n",
       "  </tbody>\n",
       "</table>\n",
       "</div>"
      ],
      "text/plain": [
       "   index  Year  Asylum-seekers\n",
       "0      2  2022          113066\n",
       "1      1  2021           63143\n",
       "2      0  2020           18401"
      ]
     },
     "execution_count": 309,
     "metadata": {},
     "output_type": "execute_result"
    }
   ],
   "source": [
    "#Total number of Asylum-seekers in canada per year\n",
    "no_of_A = table.groupby(\"Year\")[\"Asylum-seekers\"].sum()\n",
    "no_of_A = no_of_R.reset_index()\n",
    "no_of_A.sort_values(by = \"Asylum-seekers\", inplace= True, ascending=False)\n",
    "no_of_A.head()"
   ]
  },
  {
   "cell_type": "code",
   "execution_count": 314,
   "id": "e04170fa",
   "metadata": {},
   "outputs": [],
   "source": [
    "no_of_A.to_csv(\"Asylum in Canada peryear\")"
   ]
  },
  {
   "cell_type": "code",
   "execution_count": 315,
   "id": "7efade10",
   "metadata": {},
   "outputs": [
    {
     "data": {
      "text/plain": [
       "Text(0, 0.5, 'Asylum-seekers')"
      ]
     },
     "execution_count": 315,
     "metadata": {},
     "output_type": "execute_result"
    },
    {
     "data": {
      "image/png": "[encoded data removed]",
      "text/plain": [
       "<Figure size 640x480 with 1 Axes>"
      ]
     },
     "metadata": {},
     "output_type": "display_data"
    }
   ],
   "source": [
    "no_of_R.head().plot(kind=\"bar\",x=\"Year\",y=\"Asylum-seekers\",color= [\"blue\",\"yellow\",\"pink\",\"purple\",\"grey\",\"green\",\"orange\",\"tan\",\"gold\"] ,label = \"TOTAL NUMBER OF R_REFUGEES/YEAR\")\n",
    "plt.xlabel(\"Year\")\n",
    "plt.ylabel(\"Asylum-seekers\")"
   ]
  },
  {
   "cell_type": "code",
   "execution_count": 339,
   "id": "3e987472",
   "metadata": {
    "scrolled": true
   },
   "outputs": [
    {
     "data": {
      "image/png": "[encoded data removed]",
      "text/plain": [
       "<Figure size 640x480 with 1 Axes>"
      ]
     },
     "metadata": {},
     "output_type": "display_data"
    },
    {
     "data": {
      "text/plain": [
       "<Figure size 800x500 with 0 Axes>"
      ]
     },
     "metadata": {},
     "output_type": "display_data"
    }
   ],
   "source": [
    "#Trends in Refugee and asylum stat from 2012-2022\n",
    "table[\"Year\"]= table[\"Year\"].astype(int)\n",
    "sns.lineplot(x=\"Year\",y=\"UNHR-refugees\",data= table,marker=\"o\")\n",
    "plt.grid()\n",
    "plt.figure(figsize=(8,5))\n",
    "plt.show()"
   ]
  },
  {
   "cell_type": "code",
   "execution_count": 355,
   "id": "0df439ee",
   "metadata": {},
   "outputs": [
    {
     "data": {
      "text/html": [
       "<div>\n",
       "<style scoped>\n",
       "    .dataframe tbody tr th:only-of-type {\n",
       "        vertical-align: middle;\n",
       "    }\n",
       "\n",
       "    .dataframe tbody tr th {\n",
       "        vertical-align: top;\n",
       "    }\n",
       "\n",
       "    .dataframe thead th {\n",
       "        text-align: right;\n",
       "    }\n",
       "</style>\n",
       "<table border=\"1\" class=\"dataframe\">\n",
       "  <thead>\n",
       "    <tr style=\"text-align: right;\">\n",
       "      <th></th>\n",
       "      <th>predicted_mean</th>\n",
       "    </tr>\n",
       "  </thead>\n",
       "  <tbody>\n",
       "    <tr>\n",
       "      <th>368</th>\n",
       "      <td>852.537747</td>\n",
       "    </tr>\n",
       "    <tr>\n",
       "      <th>369</th>\n",
       "      <td>751.025358</td>\n",
       "    </tr>\n",
       "    <tr>\n",
       "      <th>370</th>\n",
       "      <td>843.975293</td>\n",
       "    </tr>\n",
       "    <tr>\n",
       "      <th>371</th>\n",
       "      <td>751.240887</td>\n",
       "    </tr>\n",
       "    <tr>\n",
       "      <th>372</th>\n",
       "      <td>843.920524</td>\n",
       "    </tr>\n",
       "  </tbody>\n",
       "</table>\n",
       "</div>"
      ],
      "text/plain": [
       "     predicted_mean\n",
       "368      852.537747\n",
       "369      751.025358\n",
       "370      843.975293\n",
       "371      751.240887\n",
       "372      843.920524"
      ]
     },
     "execution_count": 355,
     "metadata": {},
     "output_type": "execute_result"
    }
   ],
   "source": [
    "#Train ARIMA model for forcasting number of refugees that will be in canada in next 6years\n",
    "from statsmodels.tsa.arima.model import ARIMA\n",
    "\n",
    "model = ARIMA(table[\"UNHR-refugees\"],\n",
    "              order=(2,1,2))\n",
    "model_fit=model.fit()\n",
    "\n",
    "forecast=model_fit.forecast(steps=5)\n",
    "pd.DataFrame(forecast)"
   ]
  },
  {
   "cell_type": "code",
   "execution_count": 356,
   "id": "f84e53e8",
   "metadata": {
    "scrolled": false
   },
   "outputs": [
    {
     "ename": "ValueError",
     "evalue": "x and y must have same first dimension, but have shapes (4,) and (5,)",
     "output_type": "error",
     "traceback": [
      "\u001b[1;31m---------------------------------------------------------------------------\u001b[0m",
      "\u001b[1;31mValueError\u001b[0m                                Traceback (most recent call last)",
      "Cell \u001b[1;32mIn[356], line 3\u001b[0m\n\u001b[0;32m      1\u001b[0m future \u001b[38;5;241m=\u001b[39m \u001b[38;5;28mlist\u001b[39m(\u001b[38;5;28mrange\u001b[39m(table[\u001b[38;5;124m\"\u001b[39m\u001b[38;5;124mYear\u001b[39m\u001b[38;5;124m\"\u001b[39m]\u001b[38;5;241m.\u001b[39mmax()\u001b[38;5;241m+\u001b[39m\u001b[38;5;241m1\u001b[39m ,\n\u001b[0;32m      2\u001b[0m table[\u001b[38;5;124m\"\u001b[39m\u001b[38;5;124mYear\u001b[39m\u001b[38;5;124m\"\u001b[39m]\u001b[38;5;241m.\u001b[39mmax()\u001b[38;5;241m+\u001b[39m\u001b[38;5;241m5\u001b[39m))\n\u001b[1;32m----> 3\u001b[0m plt\u001b[38;5;241m.\u001b[39mplot(future,forecast,marker\u001b[38;5;241m=\u001b[39m\u001b[38;5;124m\"\u001b[39m\u001b[38;5;124mo\u001b[39m\u001b[38;5;124m\"\u001b[39m,linestyle\u001b[38;5;241m=\u001b[39m\u001b[38;5;124m\"\u001b[39m\u001b[38;5;124mdashed\u001b[39m\u001b[38;5;124m\"\u001b[39m,color\u001b[38;5;241m=\u001b[39m\u001b[38;5;124m\"\u001b[39m\u001b[38;5;124mred\u001b[39m\u001b[38;5;124m\"\u001b[39m)\n",
      "File \u001b[1;32m~\\anaconda3\\Lib\\site-packages\\matplotlib\\pyplot.py:2812\u001b[0m, in \u001b[0;36mplot\u001b[1;34m(scalex, scaley, data, *args, **kwargs)\u001b[0m\n\u001b[0;32m   2810\u001b[0m \u001b[38;5;129m@_copy_docstring_and_deprecators\u001b[39m(Axes\u001b[38;5;241m.\u001b[39mplot)\n\u001b[0;32m   2811\u001b[0m \u001b[38;5;28;01mdef\u001b[39;00m \u001b[38;5;21mplot\u001b[39m(\u001b[38;5;241m*\u001b[39margs, scalex\u001b[38;5;241m=\u001b[39m\u001b[38;5;28;01mTrue\u001b[39;00m, scaley\u001b[38;5;241m=\u001b[39m\u001b[38;5;28;01mTrue\u001b[39;00m, data\u001b[38;5;241m=\u001b[39m\u001b[38;5;28;01mNone\u001b[39;00m, \u001b[38;5;241m*\u001b[39m\u001b[38;5;241m*\u001b[39mkwargs):\n\u001b[1;32m-> 2812\u001b[0m     \u001b[38;5;28;01mreturn\u001b[39;00m gca()\u001b[38;5;241m.\u001b[39mplot(\n\u001b[0;32m   2813\u001b[0m         \u001b[38;5;241m*\u001b[39margs, scalex\u001b[38;5;241m=\u001b[39mscalex, scaley\u001b[38;5;241m=\u001b[39mscaley,\n\u001b[0;32m   2814\u001b[0m         \u001b[38;5;241m*\u001b[39m\u001b[38;5;241m*\u001b[39m({\u001b[38;5;124m\"\u001b[39m\u001b[38;5;124mdata\u001b[39m\u001b[38;5;124m\"\u001b[39m: data} \u001b[38;5;28;01mif\u001b[39;00m data \u001b[38;5;129;01mis\u001b[39;00m \u001b[38;5;129;01mnot\u001b[39;00m \u001b[38;5;28;01mNone\u001b[39;00m \u001b[38;5;28;01melse\u001b[39;00m {}), \u001b[38;5;241m*\u001b[39m\u001b[38;5;241m*\u001b[39mkwargs)\n",
      "File \u001b[1;32m~\\anaconda3\\Lib\\site-packages\\matplotlib\\axes\\_axes.py:1688\u001b[0m, in \u001b[0;36mAxes.plot\u001b[1;34m(self, scalex, scaley, data, *args, **kwargs)\u001b[0m\n\u001b[0;32m   1445\u001b[0m \u001b[38;5;250m\u001b[39m\u001b[38;5;124;03m\"\"\"\u001b[39;00m\n\u001b[0;32m   1446\u001b[0m \u001b[38;5;124;03mPlot y versus x as lines and/or markers.\u001b[39;00m\n\u001b[0;32m   1447\u001b[0m \n\u001b[1;32m   (...)\u001b[0m\n\u001b[0;32m   1685\u001b[0m \u001b[38;5;124;03m(``'green'``) or hex strings (``'#008000'``).\u001b[39;00m\n\u001b[0;32m   1686\u001b[0m \u001b[38;5;124;03m\"\"\"\u001b[39;00m\n\u001b[0;32m   1687\u001b[0m kwargs \u001b[38;5;241m=\u001b[39m cbook\u001b[38;5;241m.\u001b[39mnormalize_kwargs(kwargs, mlines\u001b[38;5;241m.\u001b[39mLine2D)\n\u001b[1;32m-> 1688\u001b[0m lines \u001b[38;5;241m=\u001b[39m [\u001b[38;5;241m*\u001b[39m\u001b[38;5;28mself\u001b[39m\u001b[38;5;241m.\u001b[39m_get_lines(\u001b[38;5;241m*\u001b[39margs, data\u001b[38;5;241m=\u001b[39mdata, \u001b[38;5;241m*\u001b[39m\u001b[38;5;241m*\u001b[39mkwargs)]\n\u001b[0;32m   1689\u001b[0m \u001b[38;5;28;01mfor\u001b[39;00m line \u001b[38;5;129;01min\u001b[39;00m lines:\n\u001b[0;32m   1690\u001b[0m     \u001b[38;5;28mself\u001b[39m\u001b[38;5;241m.\u001b[39madd_line(line)\n",
      "File \u001b[1;32m~\\anaconda3\\Lib\\site-packages\\matplotlib\\axes\\_base.py:311\u001b[0m, in \u001b[0;36m_process_plot_var_args.__call__\u001b[1;34m(self, data, *args, **kwargs)\u001b[0m\n\u001b[0;32m    309\u001b[0m     this \u001b[38;5;241m+\u001b[39m\u001b[38;5;241m=\u001b[39m args[\u001b[38;5;241m0\u001b[39m],\n\u001b[0;32m    310\u001b[0m     args \u001b[38;5;241m=\u001b[39m args[\u001b[38;5;241m1\u001b[39m:]\n\u001b[1;32m--> 311\u001b[0m \u001b[38;5;28;01myield from\u001b[39;00m \u001b[38;5;28mself\u001b[39m\u001b[38;5;241m.\u001b[39m_plot_args(\n\u001b[0;32m    312\u001b[0m     this, kwargs, ambiguous_fmt_datakey\u001b[38;5;241m=\u001b[39mambiguous_fmt_datakey)\n",
      "File \u001b[1;32m~\\anaconda3\\Lib\\site-packages\\matplotlib\\axes\\_base.py:504\u001b[0m, in \u001b[0;36m_process_plot_var_args._plot_args\u001b[1;34m(self, tup, kwargs, return_kwargs, ambiguous_fmt_datakey)\u001b[0m\n\u001b[0;32m    501\u001b[0m     \u001b[38;5;28mself\u001b[39m\u001b[38;5;241m.\u001b[39maxes\u001b[38;5;241m.\u001b[39myaxis\u001b[38;5;241m.\u001b[39mupdate_units(y)\n\u001b[0;32m    503\u001b[0m \u001b[38;5;28;01mif\u001b[39;00m x\u001b[38;5;241m.\u001b[39mshape[\u001b[38;5;241m0\u001b[39m] \u001b[38;5;241m!=\u001b[39m y\u001b[38;5;241m.\u001b[39mshape[\u001b[38;5;241m0\u001b[39m]:\n\u001b[1;32m--> 504\u001b[0m     \u001b[38;5;28;01mraise\u001b[39;00m \u001b[38;5;167;01mValueError\u001b[39;00m(\u001b[38;5;124mf\u001b[39m\u001b[38;5;124m\"\u001b[39m\u001b[38;5;124mx and y must have same first dimension, but \u001b[39m\u001b[38;5;124m\"\u001b[39m\n\u001b[0;32m    505\u001b[0m                      \u001b[38;5;124mf\u001b[39m\u001b[38;5;124m\"\u001b[39m\u001b[38;5;124mhave shapes \u001b[39m\u001b[38;5;132;01m{\u001b[39;00mx\u001b[38;5;241m.\u001b[39mshape\u001b[38;5;132;01m}\u001b[39;00m\u001b[38;5;124m and \u001b[39m\u001b[38;5;132;01m{\u001b[39;00my\u001b[38;5;241m.\u001b[39mshape\u001b[38;5;132;01m}\u001b[39;00m\u001b[38;5;124m\"\u001b[39m)\n\u001b[0;32m    506\u001b[0m \u001b[38;5;28;01mif\u001b[39;00m x\u001b[38;5;241m.\u001b[39mndim \u001b[38;5;241m>\u001b[39m \u001b[38;5;241m2\u001b[39m \u001b[38;5;129;01mor\u001b[39;00m y\u001b[38;5;241m.\u001b[39mndim \u001b[38;5;241m>\u001b[39m \u001b[38;5;241m2\u001b[39m:\n\u001b[0;32m    507\u001b[0m     \u001b[38;5;28;01mraise\u001b[39;00m \u001b[38;5;167;01mValueError\u001b[39;00m(\u001b[38;5;124mf\u001b[39m\u001b[38;5;124m\"\u001b[39m\u001b[38;5;124mx and y can be no greater than 2D, but have \u001b[39m\u001b[38;5;124m\"\u001b[39m\n\u001b[0;32m    508\u001b[0m                      \u001b[38;5;124mf\u001b[39m\u001b[38;5;124m\"\u001b[39m\u001b[38;5;124mshapes \u001b[39m\u001b[38;5;132;01m{\u001b[39;00mx\u001b[38;5;241m.\u001b[39mshape\u001b[38;5;132;01m}\u001b[39;00m\u001b[38;5;124m and \u001b[39m\u001b[38;5;132;01m{\u001b[39;00my\u001b[38;5;241m.\u001b[39mshape\u001b[38;5;132;01m}\u001b[39;00m\u001b[38;5;124m\"\u001b[39m)\n",
      "\u001b[1;31mValueError\u001b[0m: x and y must have same first dimension, but have shapes (4,) and (5,)"
     ]
    },
    {
     "data": {
      "image/png": "[encoded data removed]",
      "text/plain": [
       "<Figure size 640x480 with 1 Axes>"
      ]
     },
     "metadata": {},
     "output_type": "display_data"
    }
   ],
   "source": [
    "future = list(range(table[\"Year\"].max()+1 ,\n",
    "table[\"Year\"].max()+5))\n",
    "plt.plot(future,forecast,marker=\"o\",linestyle=\"dashed\",color=\"red\")"
   ]
  },
  {
   "cell_type": "code",
   "execution_count": 367,
   "id": "081faf39",
   "metadata": {},
   "outputs": [
    {
     "name": "stdout",
     "output_type": "stream",
     "text": [
      "DDDDD\n"
     ]
    }
   ],
   "source": [
    "import requests\n",
    "from bs4 import BeautifulSoup\n",
    "url = \"https://www.unhcr.org/refugee-statistics/download?url=8tIY7I\"\n",
    "with open (\"canaR.xlsx\",\"wb\") as file:\n",
    "    file.write(response.content)\n",
    "print(\"DDDDD\")\n"
   ]
  },
  {
   "cell_type": "code",
   "execution_count": 368,
   "id": "8d3f2a05",
   "metadata": {},
   "outputs": [
    {
     "ename": "ValueError",
     "evalue": "Excel file format cannot be determined, you must specify an engine manually.",
     "output_type": "error",
     "traceback": [
      "\u001b[1;31m---------------------------------------------------------------------------\u001b[0m",
      "\u001b[1;31mValueError\u001b[0m                                Traceback (most recent call last)",
      "Cell \u001b[1;32mIn[368], line 1\u001b[0m\n\u001b[1;32m----> 1\u001b[0m a \u001b[38;5;241m=\u001b[39m pd\u001b[38;5;241m.\u001b[39mread_excel(\u001b[38;5;124m\"\u001b[39m\u001b[38;5;124mcanaR.xlsx\u001b[39m\u001b[38;5;124m\"\u001b[39m)\n",
      "File \u001b[1;32m~\\anaconda3\\Lib\\site-packages\\pandas\\io\\excel\\_base.py:478\u001b[0m, in \u001b[0;36mread_excel\u001b[1;34m(io, sheet_name, header, names, index_col, usecols, dtype, engine, converters, true_values, false_values, skiprows, nrows, na_values, keep_default_na, na_filter, verbose, parse_dates, date_parser, date_format, thousands, decimal, comment, skipfooter, storage_options, dtype_backend)\u001b[0m\n\u001b[0;32m    476\u001b[0m \u001b[38;5;28;01mif\u001b[39;00m \u001b[38;5;129;01mnot\u001b[39;00m \u001b[38;5;28misinstance\u001b[39m(io, ExcelFile):\n\u001b[0;32m    477\u001b[0m     should_close \u001b[38;5;241m=\u001b[39m \u001b[38;5;28;01mTrue\u001b[39;00m\n\u001b[1;32m--> 478\u001b[0m     io \u001b[38;5;241m=\u001b[39m ExcelFile(io, storage_options\u001b[38;5;241m=\u001b[39mstorage_options, engine\u001b[38;5;241m=\u001b[39mengine)\n\u001b[0;32m    479\u001b[0m \u001b[38;5;28;01melif\u001b[39;00m engine \u001b[38;5;129;01mand\u001b[39;00m engine \u001b[38;5;241m!=\u001b[39m io\u001b[38;5;241m.\u001b[39mengine:\n\u001b[0;32m    480\u001b[0m     \u001b[38;5;28;01mraise\u001b[39;00m \u001b[38;5;167;01mValueError\u001b[39;00m(\n\u001b[0;32m    481\u001b[0m         \u001b[38;5;124m\"\u001b[39m\u001b[38;5;124mEngine should not be specified when passing \u001b[39m\u001b[38;5;124m\"\u001b[39m\n\u001b[0;32m    482\u001b[0m         \u001b[38;5;124m\"\u001b[39m\u001b[38;5;124man ExcelFile - ExcelFile already has the engine set\u001b[39m\u001b[38;5;124m\"\u001b[39m\n\u001b[0;32m    483\u001b[0m     )\n",
      "File \u001b[1;32m~\\anaconda3\\Lib\\site-packages\\pandas\\io\\excel\\_base.py:1500\u001b[0m, in \u001b[0;36mExcelFile.__init__\u001b[1;34m(self, path_or_buffer, engine, storage_options)\u001b[0m\n\u001b[0;32m   1496\u001b[0m     ext \u001b[38;5;241m=\u001b[39m inspect_excel_format(\n\u001b[0;32m   1497\u001b[0m         content_or_path\u001b[38;5;241m=\u001b[39mpath_or_buffer, storage_options\u001b[38;5;241m=\u001b[39mstorage_options\n\u001b[0;32m   1498\u001b[0m     )\n\u001b[0;32m   1499\u001b[0m     \u001b[38;5;28;01mif\u001b[39;00m ext \u001b[38;5;129;01mis\u001b[39;00m \u001b[38;5;28;01mNone\u001b[39;00m:\n\u001b[1;32m-> 1500\u001b[0m         \u001b[38;5;28;01mraise\u001b[39;00m \u001b[38;5;167;01mValueError\u001b[39;00m(\n\u001b[0;32m   1501\u001b[0m             \u001b[38;5;124m\"\u001b[39m\u001b[38;5;124mExcel file format cannot be determined, you must specify \u001b[39m\u001b[38;5;124m\"\u001b[39m\n\u001b[0;32m   1502\u001b[0m             \u001b[38;5;124m\"\u001b[39m\u001b[38;5;124man engine manually.\u001b[39m\u001b[38;5;124m\"\u001b[39m\n\u001b[0;32m   1503\u001b[0m         )\n\u001b[0;32m   1505\u001b[0m engine \u001b[38;5;241m=\u001b[39m config\u001b[38;5;241m.\u001b[39mget_option(\u001b[38;5;124mf\u001b[39m\u001b[38;5;124m\"\u001b[39m\u001b[38;5;124mio.excel.\u001b[39m\u001b[38;5;132;01m{\u001b[39;00mext\u001b[38;5;132;01m}\u001b[39;00m\u001b[38;5;124m.reader\u001b[39m\u001b[38;5;124m\"\u001b[39m, silent\u001b[38;5;241m=\u001b[39m\u001b[38;5;28;01mTrue\u001b[39;00m)\n\u001b[0;32m   1506\u001b[0m \u001b[38;5;28;01mif\u001b[39;00m engine \u001b[38;5;241m==\u001b[39m \u001b[38;5;124m\"\u001b[39m\u001b[38;5;124mauto\u001b[39m\u001b[38;5;124m\"\u001b[39m:\n",
      "\u001b[1;31mValueError\u001b[0m: Excel file format cannot be determined, you must specify an engine manually."
     ]
    }
   ],
   "source": [
    "a = pd.read_excel(\"canaR.xlsx\")"
   ]
  }
 ],
 "metadata": {
  "kernelspec": {
   "display_name": "Python 3 (ipykernel)",
   "language": "python",
   "name": "python3"
  },
  "language_info": {
   "codemirror_mode": {
    "name": "ipython",
    "version": 3
   },
   "file_extension": ".py",
   "mimetype": "text/x-python",
   "name": "python",
   "nbconvert_exporter": "python",
   "pygments_lexer": "ipython3",
   "version": "3.11.5"
  }
 },
 "nbformat": 4,
 "nbformat_minor": 5
}
